{
 "cells": [
  {
   "cell_type": "code",
   "execution_count": 11,
   "metadata": {},
   "outputs": [
    {
     "name": "stdout",
     "output_type": "stream",
     "text": [
      "0.0, 0.5, 1.0, 1.5, 2.0, 2.5, 3.0, 3.5, 4.0, "
     ]
    }
   ],
   "source": [
    "import numpy as np\n",
    "import random\n",
    "import decimal\n",
    "# range for floats with np.arange()\n",
    "for i in np.arange(0, 4.5, 0.5):\n",
    "    print(i, end=', ')"
   ]
  },
  {
   "cell_type": "code",
   "execution_count": 25,
   "metadata": {},
   "outputs": [],
   "source": [
    "import numpy as np\n",
    "from datetime import datetime\n",
    "import pandas as pd\n",
    "import random\n",
    "\n",
    "list_size = 100\n",
    "\n",
    "countries = [\"United Kingdom\",\n",
    "            \"France\",\n",
    "            \"Australia\",\n",
    "            \"Netherlands\",\n",
    "            \"Germany\",\n",
    "            \"Norway\",\n",
    "            \"EIRE\",\n",
    "            \"Switzerland\",\n",
    "            \"Spain\",\n",
    "            \"Poland\",\n",
    "            \"Portugal\",\n",
    "            \"Italy\",\n",
    "            \"Belgium\",\n",
    "            \"Lithuania\",\n",
    "            \"Japan\",\n",
    "            \"Iceland\",\n",
    "            \"Channel Islands\",\n",
    "            \"Singapore\",\n",
    "            \"Lebanon\",\n",
    "            \"United Arab Emirates\",\n",
    "            \"Saudi Arabia\",\n",
    "            \"Czech Republic\",\n",
    "            \"Canada\",\n",
    "            \"Unspecified\",\n",
    "            \"Brazil\",\n",
    "            \"USA\",\n",
    "            \"European Community\",\n",
    "            \"Malta\",\n",
    "            \"RSA\"]\n",
    "\n",
    "items = [\"Bass Guitar\", \n",
    "         \"Maracas\", \n",
    "         \"Zither\", \n",
    "         \"Accordion\", \n",
    "         \"Symbols\", \n",
    "         \"Acoustic Guitar\", \n",
    "         \"Piccolo\", \n",
    "         \"Xylophone\", \n",
    "         \"Kazoo\", \n",
    "         \"Snare Drum\"]\n",
    "\n",
    "years = np.char.mod('%d',np.random.randint(20120213, high=20120223, size=4, dtype=int))\n",
    "hours = np.char.mod('%d',np.random.randint(00, high=23, size=4, dtype=int))\n",
    "minutes = np.char.mod('%d',np.random.randint(00, high=59, size=4, dtype=int))\n",
    "seconds = np.char.mod('%d',np.random.randint(00, high=59, size=4, dtype=int))\n",
    "datetime_np = np.stack((years, hours, minutes, seconds), axis=1).tolist()\n",
    "datetime_int = [x[0]+x[1].zfill(2)+x[2].zfill(2)+x[3].zfill(2) for x in datetime_np]\n",
    "\n",
    "invoice_no = np.random.randint(5000, size=list_size).tolist()\n",
    "stock_code = np.random.randint(4000, size = list_size).tolist()\n",
    "description = random.choices(items, k = list_size)\n",
    "quantity = np.random.randint(5, size = list_size).tolist()\n",
    "invoice_date = [datetime.strptime(str(x), '%Y%m%d%H%M%S').strftime(\"%Y-%m-%d %H:%M:%S\") for x in datetime_int]\n",
    "unit_price = [float(\"{:.2f}\".format(random.random()*10)) for x in range(list_size)]\n",
    "customer_id = np.random.randint(500, size=list_size).tolist()\n",
    "country= random.choices(countries, k = list_size)\n"
   ]
  },
  {
   "cell_type": "code",
   "execution_count": 26,
   "metadata": {},
   "outputs": [],
   "source": [
    "cols = [\"invoice_no\", \"stock_code\", \"description\", \"quantity\", \"invoice_date\", \"unit_price\", \"customer_id\", \"country\"]\n",
    "df = pd.DataFrame(list(zip(invoice_no, stock_code, description, quantity, invoice_date, unit_price, customer_id, country)), columns=cols)"
   ]
  },
  {
   "cell_type": "code",
   "execution_count": 27,
   "metadata": {},
   "outputs": [],
   "source": [
    "df.to_csv('/home/isamu/workplace/sample_data/sales.csv', index=False)"
   ]
  },
  {
   "cell_type": "code",
   "execution_count": null,
   "metadata": {},
   "outputs": [],
   "source": []
  }
 ],
 "metadata": {
  "kernelspec": {
   "display_name": "Python 3.10.4 ('venv_kafka_stream': venv)",
   "language": "python",
   "name": "python3"
  },
  "language_info": {
   "codemirror_mode": {
    "name": "ipython",
    "version": 3
   },
   "file_extension": ".py",
   "mimetype": "text/x-python",
   "name": "python",
   "nbconvert_exporter": "python",
   "pygments_lexer": "ipython3",
   "version": "3.10.4"
  },
  "orig_nbformat": 4,
  "vscode": {
   "interpreter": {
    "hash": "7fca5c8671f78a9d5f4595827d9bc947f94dd2f8dc127880694a8ea2c8da20ce"
   }
  }
 },
 "nbformat": 4,
 "nbformat_minor": 2
}
